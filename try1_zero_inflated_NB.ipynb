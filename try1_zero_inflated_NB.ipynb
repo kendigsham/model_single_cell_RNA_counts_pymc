{
 "cells": [
  {
   "cell_type": "code",
   "execution_count": 1,
   "id": "45cc9d1c-b4e7-434d-b75e-241c7dc69ba6",
   "metadata": {},
   "outputs": [
    {
     "name": "stderr",
     "output_type": "stream",
     "text": [
      "WARNING (aesara.configdefaults): g++ not available, if using conda: `conda install m2w64-toolchain`\n",
      "WARNING (aesara.configdefaults): g++ not detected!  Aesara will be unable to compile C-implementations and will default to Python. Performance may be severely degraded. To remove this warning, set Aesara flags cxx to an empty string.\n"
     ]
    },
    {
     "name": "stdout",
     "output_type": "stream",
     "text": [
      "Could not locate executable g77\n",
      "Could not locate executable f77\n",
      "Could not locate executable ifort\n",
      "Could not locate executable ifl\n",
      "Could not locate executable f90\n",
      "Could not locate executable DF\n",
      "Could not locate executable efl\n",
      "Could not locate executable gfortran\n",
      "Could not locate executable f95\n",
      "Could not locate executable g95\n",
      "Could not locate executable efort\n",
      "Could not locate executable efc\n",
      "Could not locate executable flang\n",
      "don't know how to compile Fortran code on platform 'nt'\n"
     ]
    },
    {
     "name": "stderr",
     "output_type": "stream",
     "text": [
      "WARNING (aesara.tensor.blas): Using NumPy C-API based implementation for BLAS functions.\n"
     ]
    }
   ],
   "source": [
    "import pymc as pm\n",
    "import matplotlib.pyplot as plt\n",
    "import numpy as np\n",
    "import scipy.stats as st\n",
    "from scipy import special\n",
    "import arviz as az\n",
    "import pandas as pd\n",
    "from scipy import stats\n",
    "import seaborn as sns\n"
   ]
  },
  {
   "cell_type": "code",
   "execution_count": 2,
   "id": "ef5892f4-ee04-4425-812f-629c95372a66",
   "metadata": {},
   "outputs": [
    {
     "data": {
      "text/plain": [
       "'4.1.1'"
      ]
     },
     "execution_count": 2,
     "metadata": {},
     "output_type": "execute_result"
    }
   ],
   "source": [
    "pm.__version__"
   ]
  },
  {
   "cell_type": "code",
   "execution_count": 3,
   "id": "1972acfa-2896-4835-9799-cc0b58ebd731",
   "metadata": {},
   "outputs": [],
   "source": [
    "df3 = pd.read_csv('testing_data_negative_binomial.csv',index_col=0)"
   ]
  },
  {
   "cell_type": "code",
   "execution_count": 4,
   "id": "1695556c-ad02-4f03-b4d1-6b51cf253c30",
   "metadata": {},
   "outputs": [
    {
     "data": {
      "text/html": [
       "<div>\n",
       "<style scoped>\n",
       "    .dataframe tbody tr th:only-of-type {\n",
       "        vertical-align: middle;\n",
       "    }\n",
       "\n",
       "    .dataframe tbody tr th {\n",
       "        vertical-align: top;\n",
       "    }\n",
       "\n",
       "    .dataframe thead th {\n",
       "        text-align: right;\n",
       "    }\n",
       "</style>\n",
       "<table border=\"1\" class=\"dataframe\">\n",
       "  <thead>\n",
       "    <tr style=\"text-align: right;\">\n",
       "      <th></th>\n",
       "      <th>nsneeze</th>\n",
       "      <th>alcohol</th>\n",
       "      <th>nomeds</th>\n",
       "    </tr>\n",
       "  </thead>\n",
       "  <tbody>\n",
       "    <tr>\n",
       "      <th>2000</th>\n",
       "      <td>3</td>\n",
       "      <td>False</td>\n",
       "      <td>True</td>\n",
       "    </tr>\n",
       "  </tbody>\n",
       "</table>\n",
       "</div>"
      ],
      "text/plain": [
       "      nsneeze  alcohol  nomeds\n",
       "2000        3    False    True"
      ]
     },
     "execution_count": 4,
     "metadata": {},
     "output_type": "execute_result"
    }
   ],
   "source": [
    "df3.head(1)"
   ]
  },
  {
   "cell_type": "code",
   "execution_count": 5,
   "id": "25fd94f2-cce2-4042-ac6e-1f33b2e72122",
   "metadata": {},
   "outputs": [
    {
     "data": {
      "image/png": "[encoded data removed]",
      "text/plain": [
       "<Figure size 432x288 with 1 Axes>"
      ]
     },
     "metadata": {
      "needs_background": "light"
     },
     "output_type": "display_data"
    }
   ],
   "source": [
    "sns.histplot(data=df3, x=\"nsneeze\", bins=100)\n",
    "plt.show()"
   ]
  },
  {
   "cell_type": "code",
   "execution_count": 6,
   "id": "e52a9227-0694-41f6-be46-0d8338cba4bf",
   "metadata": {},
   "outputs": [],
   "source": [
    "y = df3[\"nsneeze\"].values"
   ]
  },
  {
   "cell_type": "code",
   "execution_count": 7,
   "id": "32f97d79-faf8-40a0-b1c0-0601992a3846",
   "metadata": {},
   "outputs": [
    {
     "data": {
      "text/plain": [
       "array([3, 6], dtype=int64)"
      ]
     },
     "execution_count": 7,
     "metadata": {},
     "output_type": "execute_result"
    }
   ],
   "source": [
    "y[:2]"
   ]
  },
  {
   "cell_type": "code",
   "execution_count": null,
   "id": "82a4e257-5c17-44b1-9dd6-c2e190a41405",
   "metadata": {},
   "outputs": [],
   "source": [
    "with pm.Model() as model:\n",
    "\n",
    "    mu1 = pm.Uniform('mu1',lower=2,upper=10)\n",
    "    mu2 = pm.Uniform('mu2',lower=2,upper=10)\n",
    "    alpha1 = pm.Uniform('alpha1',lower=2,upper=10)\n",
    "    alpha2 = pm.Uniform('alpha2',lower=2,upper=10)\n",
    "    \n",
    "    nb1 = pm.NegativeBinomial(\"nb1\", mu1, alpha1)\n",
    "    nb2 = pm.NegativeBinomial(\"nb2\", mu2, alpha2)\n",
    "    \n",
    "    zero_inflated = pm.DiracDelta.dist(0)\n",
    "\n",
    "    w = pm.Dirichlet('w', a=np.array([1, 1, 1]))\n",
    "\n",
    "    like = pm.Mixture('like', w=w, comp_dists = [zero_inflated, nb1, nb2], observed=y)\n",
    "    "
   ]
  },
  {
   "cell_type": "code",
   "execution_count": 22,
   "id": "094bccde-af42-470f-a599-c63a82acf0d2",
   "metadata": {},
   "outputs": [],
   "source": [
    "with pm.Model() as model:\n",
    "    lam1 = pm.Exponential('lam1', lam=1)\n",
    "    lam2 = pm.Exponential('lam2', lam=1)\n",
    "\n",
    "    pois1 = pm.Poisson.dist(mu=lam1)\n",
    "    pois2 = pm.Poisson.dist(mu=lam2)\n",
    "    \n",
    "    zero_inflated = pm.DiracDelta.dist(0)\n",
    "\n",
    "    w = pm.Dirichlet('w', a=np.array([1, 1 ,1]))\n",
    "\n",
    "    like = pm.Mixture('mix', w=w, comp_dists = [zero_inflated,pois1,pois2], observed=y)\n"
   ]
  },
  {
   "cell_type": "code",
   "execution_count": 24,
   "id": "3b7b0b5b-be49-4d0a-9f2a-f2fde2c5911c",
   "metadata": {},
   "outputs": [
    {
     "name": "stderr",
     "output_type": "stream",
     "text": [
      "Auto-assigning NUTS sampler...\n",
      "Initializing NUTS using jitter+adapt_diag...\n",
      "Multiprocess sampling (4 chains in 4 jobs)\n",
      "NUTS: [lam1, lam2, w]\n"
     ]
    },
    {
     "data": {
      "text/html": [
       "\n",
       "<style>\n",
       "    /* Turns off some styling */\n",
       "    progress {\n",
       "        /* gets rid of default border in Firefox and Opera. */\n",
       "        border: none;\n",
       "        /* Needs to be in here for Safari polyfill so background images work as expected. */\n",
       "        background-size: auto;\n",
       "    }\n",
       "    .progress-bar-interrupted, .progress-bar-interrupted::-webkit-progress-bar {\n",
       "        background: #F44336;\n",
       "    }\n",
       "</style>\n"
      ],
      "text/plain": [
       "<IPython.core.display.HTML object>"
      ]
     },
     "metadata": {},
     "output_type": "display_data"
    },
    {
     "data": {
      "text/html": [
       "\n",
       "    <div>\n",
       "      <progress value='8000' class='' max='8000' style='width:300px; height:20px; vertical-align: middle;'></progress>\n",
       "      100.00% [8000/8000 1:06:51<00:00 Sampling 4 chains, 0 divergences]\n",
       "    </div>\n",
       "    "
      ],
      "text/plain": [
       "<IPython.core.display.HTML object>"
      ]
     },
     "metadata": {},
     "output_type": "display_data"
    },
    {
     "name": "stderr",
     "output_type": "stream",
     "text": [
      "Sampling 4 chains for 1_000 tune and 1_000 draw iterations (4_000 + 4_000 draws total) took 4030 seconds.\n"
     ]
    }
   ],
   "source": [
    "with model:\n",
    "    inf_fish = pm.sample()"
   ]
  },
  {
   "cell_type": "code",
   "execution_count": null,
   "id": "2b5471a9-73bc-4bc2-a465-549f91b69554",
   "metadata": {},
   "outputs": [],
   "source": []
  },
  {
   "cell_type": "code",
   "execution_count": null,
   "id": "d6f09c29-c5f1-4088-a57c-9e2d61776854",
   "metadata": {},
   "outputs": [],
   "source": []
  }
 ],
 "metadata": {
  "kernelspec": {
   "display_name": "Python 3 (ipykernel)",
   "language": "python",
   "name": "python3"
  },
  "language_info": {
   "codemirror_mode": {
    "name": "ipython",
    "version": 3
   },
   "file_extension": ".py",
   "mimetype": "text/x-python",
   "name": "python",
   "nbconvert_exporter": "python",
   "pygments_lexer": "ipython3",
   "version": "3.11.1"
  }
 },
 "nbformat": 4,
 "nbformat_minor": 5
}
