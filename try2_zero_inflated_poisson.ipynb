{
 "cells": [
  {
   "cell_type": "code",
   "execution_count": 1,
   "id": "b86421e0-2bdd-4e06-958d-21c20e5a0c0f",
   "metadata": {},
   "outputs": [
    {
     "name": "stderr",
     "output_type": "stream",
     "text": [
      "WARNING (aesara.configdefaults): g++ not available, if using conda: `conda install m2w64-toolchain`\n",
      "WARNING (aesara.configdefaults): g++ not detected!  Aesara will be unable to compile C-implementations and will default to Python. Performance may be severely degraded. To remove this warning, set Aesara flags cxx to an empty string.\n"
     ]
    },
    {
     "name": "stdout",
     "output_type": "stream",
     "text": [
      "Could not locate executable g77\n",
      "Could not locate executable f77\n",
      "Could not locate executable ifort\n",
      "Could not locate executable ifl\n",
      "Could not locate executable f90\n",
      "Could not locate executable DF\n",
      "Could not locate executable efl\n",
      "Could not locate executable gfortran\n",
      "Could not locate executable f95\n",
      "Could not locate executable g95\n",
      "Could not locate executable efort\n",
      "Could not locate executable efc\n",
      "Could not locate executable flang\n",
      "don't know how to compile Fortran code on platform 'nt'\n"
     ]
    },
    {
     "name": "stderr",
     "output_type": "stream",
     "text": [
      "WARNING (aesara.tensor.blas): Using NumPy C-API based implementation for BLAS functions.\n"
     ]
    }
   ],
   "source": [
    "import pymc as pm\n",
    "import matplotlib.pyplot as plt\n",
    "import numpy as np\n",
    "import scipy.stats as st\n",
    "from scipy import special\n",
    "import arviz as az\n",
    "import pandas as pd\n",
    "from scipy import stats\n",
    "import seaborn as sns\n",
    "\n",
    "# from pymc3.distributions.distribution import Discrete\n",
    "# from aesara.tensor.random.basic import RandomVariable"
   ]
  },
  {
   "cell_type": "code",
   "execution_count": 2,
   "id": "cdf45a61-6bae-4c8b-87a4-a855534a989b",
   "metadata": {},
   "outputs": [
    {
     "data": {
      "text/plain": [
       "'4.1.1'"
      ]
     },
     "execution_count": 2,
     "metadata": {},
     "output_type": "execute_result"
    }
   ],
   "source": [
    "pm.__version__"
   ]
  },
  {
   "cell_type": "code",
   "execution_count": 7,
   "id": "91d211bc-cba6-4bd1-8ad5-378881533c26",
   "metadata": {},
   "outputs": [],
   "source": [
    "df3 = pd.read_csv('testing_data_poisson.csv',index_col=0)"
   ]
  },
  {
   "cell_type": "code",
   "execution_count": 8,
   "id": "b755361b-8af1-4875-98f5-c2ba2c087c67",
   "metadata": {},
   "outputs": [
    {
     "data": {
      "text/html": [
       "<div>\n",
       "<style scoped>\n",
       "    .dataframe tbody tr th:only-of-type {\n",
       "        vertical-align: middle;\n",
       "    }\n",
       "\n",
       "    .dataframe tbody tr th {\n",
       "        vertical-align: top;\n",
       "    }\n",
       "\n",
       "    .dataframe thead th {\n",
       "        text-align: right;\n",
       "    }\n",
       "</style>\n",
       "<table border=\"1\" class=\"dataframe\">\n",
       "  <thead>\n",
       "    <tr style=\"text-align: right;\">\n",
       "      <th></th>\n",
       "      <th>values</th>\n",
       "    </tr>\n",
       "  </thead>\n",
       "  <tbody>\n",
       "    <tr>\n",
       "      <th>0</th>\n",
       "      <td>5</td>\n",
       "    </tr>\n",
       "  </tbody>\n",
       "</table>\n",
       "</div>"
      ],
      "text/plain": [
       "   values\n",
       "0       5"
      ]
     },
     "execution_count": 8,
     "metadata": {},
     "output_type": "execute_result"
    }
   ],
   "source": [
    "df3.head(1)"
   ]
  },
  {
   "cell_type": "code",
   "execution_count": 10,
   "id": "ff82f68b-77c7-48e0-8f96-ea8bf74451ae",
   "metadata": {},
   "outputs": [
    {
     "data": {
      "image/png": "[encoded data removed]",
      "text/plain": [
       "<Figure size 432x288 with 1 Axes>"
      ]
     },
     "metadata": {
      "needs_background": "light"
     },
     "output_type": "display_data"
    }
   ],
   "source": [
    "sns.histplot(data=df3, x=\"values\", bins=200)\n",
    "plt.show()"
   ]
  },
  {
   "cell_type": "code",
   "execution_count": 11,
   "id": "dc3445cd-d21d-43e4-88bd-8c3bf3b39307",
   "metadata": {},
   "outputs": [],
   "source": [
    "y = df3[\"values\"].values"
   ]
  },
  {
   "cell_type": "code",
   "execution_count": 12,
   "id": "fda28bb0-0ff6-4647-aab3-b1c1c8bb8a83",
   "metadata": {},
   "outputs": [
    {
     "data": {
      "text/plain": [
       "array([5, 6], dtype=int64)"
      ]
     },
     "execution_count": 12,
     "metadata": {},
     "output_type": "execute_result"
    }
   ],
   "source": [
    "y[:2]"
   ]
  },
  {
   "cell_type": "code",
   "execution_count": null,
   "id": "1c55b1a6-48e2-4071-b995-65f56ae52adb",
   "metadata": {},
   "outputs": [],
   "source": []
  },
  {
   "cell_type": "code",
   "execution_count": 15,
   "id": "5af36100-b0db-4948-a1ab-7460280ee899",
   "metadata": {},
   "outputs": [],
   "source": [
    "with pm.Model() as model:\n",
    "    mu1 = pm.Uniform('mu1', lower=0, upper=15)\n",
    "    mu2 = pm.Uniform('mu2', lower=10, upper=35)\n",
    "    \n",
    "    pois1 = pm.Poisson.dist(mu=mu1)  ## need to use '.dist' otherwise will get an error\n",
    "    pois2 = pm.Poisson.dist(mu=mu2)\n",
    "    \n",
    "    zero_inflated = pm.DiracDelta.dist(0)\n",
    "\n",
    "    w = pm.Dirichlet('w', a=np.array([1, 1 ,1]))\n",
    "\n",
    "    like = pm.Mixture('mixture', w=w, comp_dists = [zero_inflated,pois1,pois2], observed=y)\n"
   ]
  },
  {
   "cell_type": "code",
   "execution_count": 16,
   "id": "2a8ff8d5-ca0a-4fa5-848a-aa78caf612ef",
   "metadata": {},
   "outputs": [
    {
     "name": "stderr",
     "output_type": "stream",
     "text": [
      "Auto-assigning NUTS sampler...\n",
      "Initializing NUTS using jitter+adapt_diag...\n",
      "Multiprocess sampling (2 chains in 2 jobs)\n",
      "NUTS: [mu1, mu2, w]\n"
     ]
    },
    {
     "data": {
      "text/html": [
       "\n",
       "<style>\n",
       "    /* Turns off some styling */\n",
       "    progress {\n",
       "        /* gets rid of default border in Firefox and Opera. */\n",
       "        border: none;\n",
       "        /* Needs to be in here for Safari polyfill so background images work as expected. */\n",
       "        background-size: auto;\n",
       "    }\n",
       "    .progress-bar-interrupted, .progress-bar-interrupted::-webkit-progress-bar {\n",
       "        background: #F44336;\n",
       "    }\n",
       "</style>\n"
      ],
      "text/plain": [
       "<IPython.core.display.HTML object>"
      ]
     },
     "metadata": {},
     "output_type": "display_data"
    },
    {
     "data": {
      "text/html": [
       "\n",
       "    <div>\n",
       "      <progress value='3000' class='' max='3000' style='width:300px; height:20px; vertical-align: middle;'></progress>\n",
       "      100.00% [3000/3000 1:15:27<00:00 Sampling 2 chains, 0 divergences]\n",
       "    </div>\n",
       "    "
      ],
      "text/plain": [
       "<IPython.core.display.HTML object>"
      ]
     },
     "metadata": {},
     "output_type": "display_data"
    },
    {
     "name": "stderr",
     "output_type": "stream",
     "text": [
      "Sampling 2 chains for 1_000 tune and 500 draw iterations (2_000 + 1_000 draws total) took 4536 seconds.\n"
     ]
    }
   ],
   "source": [
    "with model:\n",
    "    inf_fish = pm.sample(500, cores=2)"
   ]
  },
  {
   "cell_type": "code",
   "execution_count": null,
   "id": "7a987493-f0b6-459a-b53f-809e801d0382",
   "metadata": {},
   "outputs": [],
   "source": []
  },
  {
   "cell_type": "code",
   "execution_count": null,
   "id": "5b75bb66-d745-4c8a-b9da-97d5b9b1aec2",
   "metadata": {},
   "outputs": [],
   "source": []
  },
  {
   "cell_type": "code",
   "execution_count": null,
   "id": "cf0d2fff-8610-4a5b-9210-12b4b2b97281",
   "metadata": {},
   "outputs": [],
   "source": []
  },
  {
   "cell_type": "code",
   "execution_count": null,
   "id": "6d41df33-f7f3-4c96-bd05-de87646980fc",
   "metadata": {},
   "outputs": [],
   "source": []
  },
  {
   "cell_type": "code",
   "execution_count": null,
   "id": "916b3828-3d9d-4fb5-a179-66b779bbd4be",
   "metadata": {},
   "outputs": [],
   "source": []
  },
  {
   "cell_type": "code",
   "execution_count": null,
   "id": "92f96042-1070-4947-9973-2dae9426e9e5",
   "metadata": {},
   "outputs": [],
   "source": []
  },
  {
   "cell_type": "code",
   "execution_count": null,
   "id": "221e8f6f-5f05-4ce3-9bbb-4a48a9f68543",
   "metadata": {},
   "outputs": [],
   "source": []
  }
 ],
 "metadata": {
  "kernelspec": {
   "display_name": "Python 3 (ipykernel)",
   "language": "python",
   "name": "python3"
  },
  "language_info": {
   "codemirror_mode": {
    "name": "ipython",
    "version": 3
   },
   "file_extension": ".py",
   "mimetype": "text/x-python",
   "name": "python",
   "nbconvert_exporter": "python",
   "pygments_lexer": "ipython3",
   "version": "3.11.1"
  }
 },
 "nbformat": 4,
 "nbformat_minor": 5
}
