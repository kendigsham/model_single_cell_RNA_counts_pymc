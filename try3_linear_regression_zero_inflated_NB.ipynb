{
 "cells": [
  {
   "cell_type": "code",
   "execution_count": 1,
   "id": "6b906fa5-4e24-4d99-a0d6-4c072fe325e7",
   "metadata": {},
   "outputs": [
    {
     "name": "stderr",
     "output_type": "stream",
     "text": [
      "WARNING (aesara.configdefaults): g++ not available, if using conda: `conda install m2w64-toolchain`\n",
      "WARNING (aesara.configdefaults): g++ not detected!  Aesara will be unable to compile C-implementations and will default to Python. Performance may be severely degraded. To remove this warning, set Aesara flags cxx to an empty string.\n"
     ]
    },
    {
     "name": "stdout",
     "output_type": "stream",
     "text": [
      "Could not locate executable g77\n",
      "Could not locate executable f77\n",
      "Could not locate executable ifort\n",
      "Could not locate executable ifl\n",
      "Could not locate executable f90\n",
      "Could not locate executable DF\n",
      "Could not locate executable efl\n",
      "Could not locate executable gfortran\n",
      "Could not locate executable f95\n",
      "Could not locate executable g95\n",
      "Could not locate executable efort\n",
      "Could not locate executable efc\n",
      "Could not locate executable flang\n",
      "don't know how to compile Fortran code on platform 'nt'\n"
     ]
    },
    {
     "name": "stderr",
     "output_type": "stream",
     "text": [
      "WARNING (aesara.tensor.blas): Using NumPy C-API based implementation for BLAS functions.\n"
     ]
    }
   ],
   "source": [
    "import pymc as pm\n",
    "import matplotlib.pyplot as plt\n",
    "import numpy as np\n",
    "import scipy.stats as st\n",
    "from scipy import special\n",
    "import arviz as az\n",
    "import pandas as pd\n",
    "from scipy import stats\n",
    "import seaborn as sns\n",
    "import pickle\n",
    "import math\n",
    "from collections import Counter"
   ]
  },
  {
   "cell_type": "code",
   "execution_count": 2,
   "id": "de490fca-4e5d-4251-b24c-c0ff197f03f7",
   "metadata": {},
   "outputs": [],
   "source": [
    "meta=pd.read_csv('meta_for_pymc.csv',index_col=0)"
   ]
  },
  {
   "cell_type": "code",
   "execution_count": 3,
   "id": "b19dcb11-906d-48db-b726-3ffb1b0c5488",
   "metadata": {},
   "outputs": [],
   "source": [
    "counts = pd.read_csv('geneName_raw_counts_from_deseq2.csv',index_col=0)"
   ]
  },
  {
   "cell_type": "code",
   "execution_count": 6,
   "id": "96f61050-3f07-43d0-bd00-516738bfd928",
   "metadata": {},
   "outputs": [],
   "source": [
    "data=counts.loc[:,'CFLAR'].values"
   ]
  },
  {
   "cell_type": "code",
   "execution_count": 7,
   "id": "5e5c85b2-0696-41f3-8c88-cbe2adea3fe9",
   "metadata": {},
   "outputs": [
    {
     "data": {
      "text/plain": [
       "(429,)"
      ]
     },
     "execution_count": 7,
     "metadata": {},
     "output_type": "execute_result"
    }
   ],
   "source": [
    "data.shape"
   ]
  },
  {
   "cell_type": "code",
   "execution_count": 9,
   "id": "cb3d9b84-360d-45c5-a845-e9aa87e87e16",
   "metadata": {},
   "outputs": [],
   "source": [
    "with pm.Model() as model:\n",
    "    \n",
    "    b0 = pm.Normal('Intercept', mu=0, sigma=10)\n",
    "    b1 = pm.Normal('batch_pymc',mu=0, sigma=10)\n",
    "    b2 = pm.Normal('log_nCount_RNA',mu=0, sigma=10)\n",
    "    b3 = pm.Normal('log_nFeature_RNA',mu=0, sigma=10)\n",
    "    \n",
    "    theta = (b0 + b1*meta['batch_pymc'].values + b2*meta['log_nCount_RNA'].values + b3*meta['log_nFeature_RNA'].values)\n",
    "    \n",
    "    mu1 = pm.math.exp(theta)\n",
    "    \n",
    "    mu2_prior = pm.Uniform('mu2', lower=theta+1.2, upper=12)\n",
    "    \n",
    "    mu2 = pm.math.exp(mu2_prior)\n",
    "    \n",
    "    pois1 = pm.Poisson.dist(mu=mu1)  ## need to use '.dist' otherwise will get an error\n",
    "    pois2 = pm.Poisson.dist(mu=mu2)\n",
    "    \n",
    "    zero_inflated = pm.DiracDelta.dist(0)\n",
    "\n",
    "    w = pm.Dirichlet('w', a=np.array([1, 1 ,1]))\n",
    "\n",
    "    like = pm.Mixture('mixture', w=w, comp_dists = [zero_inflated,pois1,pois2], observed=data)\n"
   ]
  },
  {
   "cell_type": "code",
   "execution_count": null,
   "id": "4cdaed9e-b514-4d64-8955-ee6640447851",
   "metadata": {},
   "outputs": [],
   "source": [
    "%%time\n",
    "with model:\n",
    "    try1_result = pm.sample(cores=2)"
   ]
  },
  {
   "cell_type": "code",
   "execution_count": null,
   "id": "2b283b5b-4f87-466a-8dda-6fa3937c6942",
   "metadata": {},
   "outputs": [],
   "source": []
  },
  {
   "cell_type": "code",
   "execution_count": null,
   "id": "78925bab-06af-4397-944f-ef40d7920f84",
   "metadata": {},
   "outputs": [],
   "source": []
  },
  {
   "cell_type": "code",
   "execution_count": null,
   "id": "56fc3142-6eaa-48f5-bbb7-6ab13e09db1a",
   "metadata": {},
   "outputs": [],
   "source": []
  },
  {
   "cell_type": "code",
   "execution_count": null,
   "id": "ce736b4f-3939-47c4-8851-a3ebd371ab02",
   "metadata": {},
   "outputs": [],
   "source": []
  },
  {
   "cell_type": "code",
   "execution_count": null,
   "id": "c506bc36-5c0c-42e3-a6bf-d4b18282f439",
   "metadata": {},
   "outputs": [],
   "source": []
  }
 ],
 "metadata": {
  "kernelspec": {
   "display_name": "Python 3 (ipykernel)",
   "language": "python",
   "name": "python3"
  },
  "language_info": {
   "codemirror_mode": {
    "name": "ipython",
    "version": 3
   },
   "file_extension": ".py",
   "mimetype": "text/x-python",
   "name": "python",
   "nbconvert_exporter": "python",
   "pygments_lexer": "ipython3",
   "version": "3.11.1"
  }
 },
 "nbformat": 4,
 "nbformat_minor": 5
}
